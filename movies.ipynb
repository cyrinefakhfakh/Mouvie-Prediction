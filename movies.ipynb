{
 "cells": [
  {
   "cell_type": "code",
   "execution_count": 1,
   "id": "16075cbc-b196-43c6-9318-40326af0ad61",
   "metadata": {},
   "outputs": [
    {
     "name": "stdout",
     "output_type": "stream",
     "text": [
      "   userId  movieId  rating            timestamp\n",
      "0       1        2     3.5  2005-04-02 23:53:47\n",
      "1       1       29     3.5  2005-04-02 23:31:16\n",
      "2       1       32     3.5  2005-04-02 23:33:39\n",
      "3       1       47     3.5  2005-04-02 23:32:07\n",
      "4       1       50     3.5  2005-04-02 23:29:40\n",
      "   movieId                               title  \\\n",
      "0        1                    Toy Story (1995)   \n",
      "1        2                      Jumanji (1995)   \n",
      "2        3             Grumpier Old Men (1995)   \n",
      "3        4            Waiting to Exhale (1995)   \n",
      "4        5  Father of the Bride Part II (1995)   \n",
      "\n",
      "                                        genres  \n",
      "0  Adventure|Animation|Children|Comedy|Fantasy  \n",
      "1                   Adventure|Children|Fantasy  \n",
      "2                               Comedy|Romance  \n",
      "3                         Comedy|Drama|Romance  \n",
      "4                                       Comedy  \n"
     ]
    }
   ],
   "source": [
    "import pandas as pd\n",
    "\n",
    "# Charger les données du dataset Movielens\n",
    "ratings = pd.read_csv(r'C:\\Users\\sirin\\OneDrive\\Bureau\\datasets\\rating.csv')\n",
    "movies = pd.read_csv(r'C:\\Users\\sirin\\OneDrive\\Bureau\\datasets\\movie.csv')\n",
    "\n",
    "# Afficher les premières lignes des données\n",
    "print(ratings.head())\n",
    "print(movies.head())\n"
   ]
  },
  {
   "cell_type": "code",
   "execution_count": 2,
   "id": "1800c8d5-ee6d-43fd-ad57-c7949ff47681",
   "metadata": {},
   "outputs": [
    {
     "data": {
      "text/plain": [
       "<Axes: >"
      ]
     },
     "execution_count": 2,
     "metadata": {},
     "output_type": "execute_result"
    },
    {
     "data": {
      "image/png": "[encoded data removed]",
      "text/plain": [
       "<Figure size 640x480 with 1 Axes>"
      ]
     },
     "metadata": {},
     "output_type": "display_data"
    }
   ],
   "source": [
    "# Distribution des notes\n",
    "ratings['rating'].hist(bins=10)\n"
   ]
  },
  {
   "cell_type": "code",
   "execution_count": 5,
   "id": "948fca23-7e47-4535-9c03-78bd304d1387",
   "metadata": {},
   "outputs": [
    {
     "name": "stdout",
     "output_type": "stream",
     "text": [
      "Evaluating RMSE, MAE of algorithm SVD on 5 split(s).\n",
      "\n",
      "                  Fold 1  Fold 2  Fold 3  Fold 4  Fold 5  Mean    Std     \n",
      "RMSE (testset)    0.7855  0.7869  0.7860  0.7857  0.7860  0.7860  0.0005  \n",
      "MAE (testset)     0.5979  0.5988  0.5982  0.5979  0.5980  0.5982  0.0004  \n",
      "Fit time          166.54  174.71  173.77  209.99  338.56  212.71  64.71   \n",
      "Test time         53.23   56.57   45.50   430.56  65.03   130.18  150.32  \n"
     ]
    },
    {
     "data": {
      "text/plain": [
       "{'test_rmse': array([0.78551179, 0.78690004, 0.78599965, 0.78568943, 0.785975  ]),\n",
       " 'test_mae': array([0.59788216, 0.59882845, 0.59816144, 0.59786662, 0.59803615]),\n",
       " 'fit_time': (166.53599405288696,\n",
       "  174.71046209335327,\n",
       "  173.7725269794464,\n",
       "  209.9883418083191,\n",
       "  338.56415009498596),\n",
       " 'test_time': (53.22707486152649,\n",
       "  56.565601110458374,\n",
       "  45.49978017807007,\n",
       "  430.5556392669678,\n",
       "  65.02801322937012)}"
      ]
     },
     "execution_count": 5,
     "metadata": {},
     "output_type": "execute_result"
    }
   ],
   "source": [
    "from surprise import Dataset, Reader, SVD\n",
    "from surprise.model_selection import cross_validate\n",
    "\n",
    "# Chargement des données\n",
    "reader = Reader(line_format='user item rating timestamp', sep=',', skip_lines=1)\n",
    "data = Dataset.load_from_file(r'C:\\Users\\sirin\\OneDrive\\Bureau\\datasets\\rating.csv', reader=reader)\n",
    "\n",
    "# Entraîner un modèle SVD\n",
    "algo = SVD()\n",
    "cross_validate(algo, data, measures=['RMSE', 'MAE'], cv=5, verbose=True)\n"
   ]
  },
  {
   "cell_type": "code",
   "execution_count": 6,
   "id": "0ab01e97-550f-4976-94df-ecfaeb24a791",
   "metadata": {},
   "outputs": [
    {
     "name": "stdout",
     "output_type": "stream",
     "text": [
      "3.5269259364132437\n"
     ]
    }
   ],
   "source": [
    "trainset = data.build_full_trainset()\n",
    "algo.fit(trainset)\n",
    "\n",
    "# Prédiction de la note d'un utilisateur pour un film\n",
    "uid = str(1)  # ID de l'utilisateur\n",
    "iid = str(302)  # ID du film\n",
    "\n",
    "pred = algo.predict(uid, iid)\n",
    "print(pred.est)\n"
   ]
  },
  {
   "cell_type": "code",
   "execution_count": 7,
   "id": "ac06d6fc-b794-479b-a4b3-8b85cfc7330d",
   "metadata": {},
   "outputs": [
    {
     "name": "stdout",
     "output_type": "stream",
     "text": [
      "Top 5 recommandations pour l'utilisateur 1 :\n",
      "Frozen Planet (2011)\n",
      "Prime Suspect (1991)\n",
      "Very Potter Musical, A (2009)\n",
      "Welfare (1975)\n",
      "Bleak House (2005)\n"
     ]
    }
   ],
   "source": [
    "# Films non évalués par l'utilisateur\n",
    "movie_ids = movies['movieId'].unique()\n",
    "rated_movie_ids = ratings[ratings['userId'] == int(uid)]['movieId'].values\n",
    "unrated_movies = [movie for movie in movie_ids if movie not in rated_movie_ids]\n",
    "\n",
    "# Prédire les notes pour les films non évalués\n",
    "predictions = [algo.predict(uid, str(movie)) for movie in unrated_movies]\n",
    "predictions.sort(key=lambda x: x.est, reverse=True)\n",
    "\n",
    "# Recommander les 5 meilleurs films\n",
    "top_5_movies = predictions[:5]\n",
    "print(\"Top 5 recommandations pour l'utilisateur {} :\".format(uid))\n",
    "for pred in top_5_movies:\n",
    "    movie_title = movies[movies['movieId'] == int(pred.iid)]['title'].values[0]\n",
    "    print(movie_title)\n"
   ]
  },
  {
   "cell_type": "code",
   "execution_count": 7,
   "id": "ad4f4f9a-342d-4967-9e2c-e3cc66f85136",
   "metadata": {},
   "outputs": [
    {
     "name": "stdout",
     "output_type": "stream",
     "text": [
      "Epoch 1/3\n"
     ]
    },
    {
     "name": "stderr",
     "output_type": "stream",
     "text": [
      "C:\\Users\\sirin\\anaconda3\\Lib\\site-packages\\keras\\src\\models\\functional.py:225: UserWarning: The structure of `inputs` doesn't match the expected structure: ['keras_tensor_7', 'keras_tensor_10']. Received: the structure of inputs=('*', '*')\n",
      "  warnings.warn(\n"
     ]
    },
    {
     "name": "stdout",
     "output_type": "stream",
     "text": [
      "\u001b[1m156253/156253\u001b[0m \u001b[32m━━━━━━━━━━━━━━━━━━━━\u001b[0m\u001b[37m\u001b[0m \u001b[1m1838s\u001b[0m 12ms/step - loss: 3.2529\n",
      "Epoch 2/3\n",
      "\u001b[1m156253/156253\u001b[0m \u001b[32m━━━━━━━━━━━━━━━━━━━━\u001b[0m\u001b[37m\u001b[0m \u001b[1m3104s\u001b[0m 20ms/step - loss: 0.6612\n"
     ]
    },
    {
     "data": {
      "text/plain": [
       "<keras.src.callbacks.history.History at 0x1e3157ccb90>"
      ]
     },
     "execution_count": 7,
     "metadata": {},
     "output_type": "execute_result"
    }
   ],
   "source": [
    "import tensorflow as tf\n",
    "from tensorflow.keras import layers\n",
    "from sklearn.preprocessing import LabelEncoder\n",
    "\n",
    "# Encoder les userId et movieId pour avoir des indices continus\n",
    "user_encoder = LabelEncoder()\n",
    "movie_encoder = LabelEncoder()\n",
    "\n",
    "ratings['user'] = user_encoder.fit_transform(ratings['userId'].values)\n",
    "ratings['movie'] = movie_encoder.fit_transform(ratings['movieId'].values)\n",
    "\n",
    "# Nombre d'utilisateurs et de films\n",
    "num_users = ratings['user'].nunique()\n",
    "num_movies = ratings['movie'].nunique()\n",
    "\n",
    "# Créer les embeddings avec une taille réduite\n",
    "embedding_dim = 20  # Réduire la taille des embeddings pour accélérer l'entraînement\n",
    "\n",
    "user_input = layers.Input(shape=(1,))\n",
    "user_embedding = layers.Embedding(input_dim=num_users, output_dim=embedding_dim)(user_input)\n",
    "user_vector = layers.Flatten()(user_embedding)\n",
    "\n",
    "movie_input = layers.Input(shape=(1,))\n",
    "movie_embedding = layers.Embedding(input_dim=num_movies, output_dim=embedding_dim)(movie_input)\n",
    "movie_vector = layers.Flatten()(movie_embedding)\n",
    "\n",
    "# Calculer la similarité (produit scalaire)\n",
    "dot_product = layers.dot([user_vector, movie_vector], axes=1)\n",
    "\n",
    "# Construire le modèle\n",
    "model = tf.keras.Model(inputs=[user_input, movie_input], outputs=dot_product)\n",
    "model.compile(optimizer='adam', loss='mean_squared_error')\n",
    "\n",
    "# Préparer les données\n",
    "X = [ratings['user'].values, ratings['movie'].values]\n",
    "y = ratings['rating'].values\n",
    "\n",
    "# Vérifier si un GPU est disponible\n",
    "gpus = tf.config.experimental.list_physical_devices('GPU')\n",
    "if gpus:\n",
    "    try:\n",
    "        tf.config.experimental.set_memory_growth(gpus[0], True)\n",
    "        print(\"GPU detected and memory growth set.\")\n",
    "    except RuntimeError as e:\n",
    "        print(e)\n",
    "\n",
    "# Entraînement du modèle avec un batch size plus grand et moins d'epochs\n",
    "model.fit(X, y, epochs=3, batch_size=128)  # Adjust epochs as needed\n"
   ]
  },
  {
   "cell_type": "code",
   "execution_count": null,
   "id": "e715ddbf-b87a-4e34-ba76-9bbe55ddefd8",
   "metadata": {},
   "outputs": [
    {
     "name": "stdout",
     "output_type": "stream",
     "text": [
      "\u001b[1m   165/625009\u001b[0m \u001b[37m━━━━━━━━━━━━━━━━━━━━\u001b[0m \u001b[1m6:39\u001b[0m 639us/step - loss: 0.6383"
     ]
    },
    {
     "name": "stderr",
     "output_type": "stream",
     "text": [
      "C:\\Users\\sirin\\anaconda3\\Lib\\site-packages\\keras\\src\\models\\functional.py:225: UserWarning: The structure of `inputs` doesn't match the expected structure: ['keras_tensor_7', 'keras_tensor_10']. Received: the structure of inputs=('*', '*')\n",
      "  warnings.warn(\n"
     ]
    },
    {
     "name": "stdout",
     "output_type": "stream",
     "text": [
      "\u001b[1m497277/625009\u001b[0m \u001b[32m━━━━━━━━━━━━━━━\u001b[0m\u001b[37m━━━━━\u001b[0m \u001b[1m1:16\u001b[0m 601us/step - loss: 0.6020"
     ]
    }
   ],
   "source": [
    "# Évaluer le modèle sur l'ensemble de test\n",
    "test_loss = model.evaluate(X, y)\n",
    "print(f'Loss on test set: {test_loss}')\n"
   ]
  },
  {
   "cell_type": "code",
   "execution_count": null,
   "id": "bea39f0f-d57f-4229-9d39-01927ae13166",
   "metadata": {},
   "outputs": [],
   "source": [
    "from sklearn.model_selection import train_test_split\n",
    "\n",
    "# Diviser les données en ensemble d'entraînement et de test\n",
    "X_train, X_test, y_train, y_test = train_test_split(\n",
    "    [ratings['user'].values, ratings['movie'].values],\n",
    "    ratings['rating'].values,\n",
    "    test_size=0.2,\n",
    "    random_state=42\n",
    ")\n",
    "ol;k;l:ikl\n",
    "# Entraînement du modèle sur l'ensemble d'entraînement\n",
    "model.fit(X, y, epochs=3, batch_size=128)\n",
    "\n",
    "# Évaluer le modèle sur l'ensemble de test\n",
    "test_loss = model.evaluate(X, y)\n",
    "print(f'Loss on test set: {test_loss}')\n",
    "\n",
    "# Prédire une note pour un utilisateur et un film spécifique\n",
    "user_id = 10  # Example user ID\n",
    "movie_id = 50  # Example movie ID\n",
    "\n",
    "# Encoder les identifiants\n",
    "encoded_user_id = user_encoder.transform([user_id])[0]\n",
    "encoded_movie_id = movie_encoder.transform([movie_id])[0]\n",
    "\n",
    "# Prédire la note\n",
    "predicted_rating = model.predict([[encoded_user_id], [encoded_movie_id]])\n",
    "print(f'Predicted rating: {predicted_rating[0][0]}')\n"
   ]
  },
  {
   "cell_type": "code",
   "execution_count": null,
   "id": "5410347a-9a4d-49b8-b6e4-fd2bb9368fe5",
   "metadata": {},
   "outputs": [],
   "source": []
  }
 ],
 "metadata": {
  "kernelspec": {
   "display_name": "Python 3 (ipykernel)",
   "language": "python",
   "name": "python3"
  },
  "language_info": {
   "codemirror_mode": {
    "name": "ipython",
    "version": 3
   },
   "file_extension": ".py",
   "mimetype": "text/x-python",
   "name": "python",
   "nbconvert_exporter": "python",
   "pygments_lexer": "ipython3",
   "version": "3.12.4"
  }
 },
 "nbformat": 4,
 "nbformat_minor": 5
}
